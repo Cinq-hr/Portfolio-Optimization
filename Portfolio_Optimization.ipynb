{
  "nbformat": 4,
  "nbformat_minor": 0,
  "metadata": {
    "colab": {
      "provenance": [],
      "authorship_tag": "ABX9TyON66Eg/reuCJMVDXsfL2Kp",
      "include_colab_link": true
    },
    "kernelspec": {
      "name": "python3",
      "display_name": "Python 3"
    },
    "language_info": {
      "name": "python"
    }
  },
  "cells": [
    {
      "cell_type": "markdown",
      "metadata": {
        "id": "view-in-github",
        "colab_type": "text"
      },
      "source": [
        "<a href=\"https://colab.research.google.com/github/Cinq-hr/Portfolio-Optimization/blob/main/Portfolio_Optimization.ipynb\" target=\"_parent\"><img src=\"https://colab.research.google.com/assets/colab-badge.svg\" alt=\"Open In Colab\"/></a>"
      ]
    },
    {
      "cell_type": "code",
      "source": [
        "!pip install yfinance\n",
        "\n",
        "import yfinance as yf\n",
        "import pandas as pd\n",
        "import numpy as np\n",
        "import matplotlib.pyplot as plt"
      ],
      "metadata": {
        "collapsed": true,
        "id": "wIeg0HxZ_1px"
      },
      "execution_count": null,
      "outputs": []
    },
    {
      "cell_type": "code",
      "source": [
        "\n",
        "tickers = ['AAPL', 'MSFT', 'GOOG', 'AMZN','BRK-B','TSLA','NVDA','KMX','F']  #\n",
        "\n",
        "data = yf.download(tickers, start=\"2020-01-01\", end=\"2023-01-01\")['Close']\n",
        "\n",
        "data.head()"
      ],
      "metadata": {
        "collapsed": true,
        "id": "BfBemqpZAbQa"
      },
      "execution_count": null,
      "outputs": []
    },
    {
      "cell_type": "code",
      "source": [
        "returns = data.pct_change().dropna()\n",
        "returns.head()"
      ],
      "metadata": {
        "collapsed": true,
        "id": "ooclqwEL_1y4"
      },
      "execution_count": null,
      "outputs": []
    },
    {
      "cell_type": "code",
      "source": [
        "\n",
        "mean_returns = returns.mean()\n",
        "\n",
        "cov_matrix = returns.cov()"
      ],
      "metadata": {
        "id": "k0A4IWXI_16g"
      },
      "execution_count": null,
      "outputs": []
    },
    {
      "cell_type": "code",
      "source": [
        "\n",
        "risk_free_rate = 0.02\n",
        "\n",
        "sharpe_ratio_threshold = 0.7\n",
        "\n",
        "\n",
        "num_portfolios = 10000\n",
        "results = np.zeros((3, num_portfolios))\n",
        "weights_record = []\n",
        "\n",
        "underperforming_count = 0\n",
        "top_performing_portfolios = []\n",
        "\n",
        "for i in range(num_portfolios):\n",
        "    weights = np.random.random(len(tickers))\n",
        "    weights /= np.sum(weights)\n",
        "    weights_record.append(weights)\n",
        "\n",
        "\n",
        "    portfolio_return = np.dot(weights, mean_returns) * 252\n",
        "    portfolio_volatility = np.sqrt(np.dot(weights.T, np.dot(cov_matrix * 252, weights)))\n",
        "\n",
        "\n",
        "    sharpe_ratio = (portfolio_return - risk_free_rate) / portfolio_volatility\n",
        "\n",
        "\n",
        "    results[0, i] = portfolio_return\n",
        "    results[1, i] = portfolio_volatility\n",
        "    results[2, i] = sharpe_ratio\n",
        "\n",
        "\n",
        "    if sharpe_ratio < sharpe_ratio_threshold:\n",
        "        underperforming_count += 1\n",
        "\n",
        "\n",
        "    top_performing_portfolios.append((i, portfolio_return, portfolio_volatility, sharpe_ratio, weights))\n",
        "\n",
        "\n",
        "top_performing_portfolios = sorted(top_performing_portfolios, key=lambda x: x[3], reverse=True)\n",
        "\n",
        "\n",
        "top_5_portfolios = top_performing_portfolios[:5]\n",
        "\n",
        "\n",
        "print(f\"Number of underperforming portfolios: {underperforming_count}\")\n",
        "\n",
        "print(\"\\nTop 5 best-performing portfolios:\")\n",
        "for idx, (portfolio_index, portfolio_return, portfolio_volatility, sharpe_ratio, weights) in enumerate(top_5_portfolios):\n",
        "    print(f\"\\nPortfolio {portfolio_index + 1}:\")\n",
        "    print(f\"  Return: {portfolio_return:.2f}%\")\n",
        "    print(f\"  Volatility: {portfolio_volatility:.2f}%\")\n",
        "    print(f\"  Sharpe Ratio: {sharpe_ratio:.2f}\")\n",
        "\n",
        "\n",
        "    print(\"  Stocks and their weights (%):\")\n",
        "    for i, weight in enumerate(weights):\n",
        "        print(f\"    {tickers[i]}: {weight * 100:.2f}%\")"
      ],
      "metadata": {
        "id": "HmPxgF1a_19R"
      },
      "execution_count": null,
      "outputs": []
    },
    {
      "cell_type": "code",
      "source": [
        "plt.figure(figsize=(10,6))\n",
        "plt.scatter(results[1], results[0], c=results[2], cmap='viridis', alpha=0.5)\n",
        "plt.colorbar(label='Sharpe Ratio')\n",
        "plt.xlabel('Volatility (Risk)')\n",
        "plt.ylabel('Expected Return')\n",
        "plt.title('Efficient Frontier')\n",
        "plt.grid(True)\n",
        "plt.show()"
      ],
      "metadata": {
        "collapsed": true,
        "id": "rXbDcqRg_1_7"
      },
      "execution_count": null,
      "outputs": []
    },
    {
      "cell_type": "code",
      "source": [
        "plt.figure(figsize=(10,6))\n",
        "plt.scatter(results[1], results[0], c=results[2], cmap='viridis', alpha=0.5)\n",
        "\n",
        "\n",
        "best_sharpe_idx = np.argmax(results[2])\n",
        "\n",
        "\n",
        "plt.scatter(results[1][best_sharpe_idx], results[0][best_sharpe_idx], color='red', marker='*', s=200, label='Best Portfolio')\n",
        "\n",
        "\n",
        "best_sharpe_ratio = results[2][best_sharpe_idx]\n",
        "print(f\"The Sharpe Ratio of the Best Portfolio is: {best_sharpe_ratio:.4f}\")\n",
        "\n",
        "plt.colorbar(label='Sharpe Ratio')\n",
        "plt.xlabel('Volatility (Risk)')\n",
        "plt.ylabel('Expected Return')\n",
        "plt.title('Efficient Frontier')\n",
        "plt.grid(True)\n",
        "plt.legend(loc='upper left')\n",
        "plt.show()"
      ],
      "metadata": {
        "id": "NYCkNC89J6ZP"
      },
      "execution_count": null,
      "outputs": []
    },
    {
      "cell_type": "code",
      "source": [
        "max_sharpe_idx = np.argmax(results[2])\n",
        "\n",
        "\n",
        "optimal_weights = weights_record[max_sharpe_idx]\n",
        "\n",
        "\n",
        "print(\"Best Portfolio Allocation (Max Sharpe Ratio):\")\n",
        "for i, ticker in enumerate(tickers):\n",
        "    print(f\"{ticker}: {optimal_weights[i]*100:.2f}%\")"
      ],
      "metadata": {
        "id": "4BOLJ_Yq_2Cl"
      },
      "execution_count": null,
      "outputs": []
    }
  ]
}